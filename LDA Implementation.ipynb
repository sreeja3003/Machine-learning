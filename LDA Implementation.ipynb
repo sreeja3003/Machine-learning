{
 "cells": [
  {
   "cell_type": "code",
   "execution_count": 6,
   "metadata": {},
   "outputs": [
    {
     "name": "stdout",
     "output_type": "stream",
     "text": [
      "the LDA modeled data looks likes:\n",
      "[(0, '0.051*\"must\" + 0.051*\"fire\" + 0.051*\"defam\" + 0.051*\"wit\"'), (1, '0.054*\"nz\" + 0.054*\"air\" + 0.054*\"strike\" + 0.033*\"pay\"')]\n"
     ]
    }
   ],
   "source": [
    "import gensim\n",
    "from nltk.tokenize import RegexpTokenizer\n",
    "from stop_words import get_stop_words\n",
    "from nltk.stem.porter import PorterStemmer\n",
    "from gensim import corpora, models\n",
    "\n",
    "\n",
    "tokenizer = RegexpTokenizer(r'\\w+')\n",
    "en_stop = get_stop_words('en')\n",
    "p_stemmer = PorterStemmer()\n",
    "\n",
    "d_1 = \"aba decides against community broadcasting licence.\"\n",
    "d_2 = \"act fire witnesses must be aware of defamation.\"\n",
    "d_3 = \"a g calls for infrastructure protection summit.\"\n",
    "d_4 = \"air nz staff in aust strike for pay rise.\"\n",
    "d_5 = \"air nz strike to affect australian travellers.\" \n",
    "d_6 = \"ambitious olsson wins triple jump.\" \n",
    "d_7 = \"antic delighted with record breaking barca.\"\n",
    "d_8 = \" .\"\n",
    "suit = [d_1, d_2, d_3, d_4, d_5,d_6,d_7,d_8]\n",
    "texts = []\n",
    "for i in suit:\n",
    "    raw = i.lower()\n",
    "    tokens = tokenizer.tokenize(raw)\n",
    "    stopped_tokens = [i for i in tokens if not i in en_stop]\n",
    "    stemmed_tokens = [p_stemmer.stem(i) for i in stopped_tokens]\n",
    "    texts.append(stemmed_tokens)\n",
    "dictionary = corpora.Dictionary(texts)\n",
    "corpus = [dictionary.doc2bow(text) for text in texts]\n",
    "ldamodel = gensim.models.ldamodel.LdaModel(corpus, num_topics=2, id2word = dictionary, passes=20)\n",
    "print(\"the LDA modeled data looks likes:\")\n",
    "print(ldamodel.print_topics(num_topics=2, num_words=4))"
   ]
  },
  {
   "cell_type": "code",
   "execution_count": null,
   "metadata": {},
   "outputs": [],
   "source": []
  },
  {
   "cell_type": "code",
   "execution_count": null,
   "metadata": {},
   "outputs": [],
   "source": []
  },
  {
   "cell_type": "code",
   "execution_count": null,
   "metadata": {},
   "outputs": [],
   "source": []
  }
 ],
 "metadata": {
  "kernelspec": {
   "display_name": "Python 3",
   "language": "python",
   "name": "python3"
  },
  "language_info": {
   "codemirror_mode": {
    "name": "ipython",
    "version": 3
   },
   "file_extension": ".py",
   "mimetype": "text/x-python",
   "name": "python",
   "nbconvert_exporter": "python",
   "pygments_lexer": "ipython3",
   "version": "3.8.3"
  }
 },
 "nbformat": 4,
 "nbformat_minor": 4
}
